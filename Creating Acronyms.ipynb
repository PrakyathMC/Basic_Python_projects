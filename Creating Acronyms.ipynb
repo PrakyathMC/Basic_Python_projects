{
 "cells": [
  {
   "cell_type": "markdown",
   "id": "9c9aa97a",
   "metadata": {},
   "source": [
    "### To get the acronym of a given word, we can do splitting and indexing and combine it. The code below is an example"
   ]
  },
  {
   "cell_type": "code",
   "execution_count": 4,
   "id": "b0779099",
   "metadata": {},
   "outputs": [
    {
     "name": "stdout",
     "output_type": "stream",
     "text": [
      "enter a phrase: Artificial Intelligence\n",
      " AI\n"
     ]
    }
   ],
   "source": [
    "user_input = str(input(\"enter a phrase: \"))\n",
    "\n",
    "text = user_input.split()\n",
    "\n",
    "a = \" \"\n",
    "\n",
    "for i in text:\n",
    "    a = a + str(i[0]).upper()\n",
    "    \n",
    "print(a)"
   ]
  },
  {
   "cell_type": "markdown",
   "id": "e076a707",
   "metadata": {},
   "source": [
    "### In the above code, I am first taking a string user input, then i am using the split() function in Python for splitting the sentence. Then i declare a new variable \"a\" to store the acronym of a phrase\n",
    "### At the end i am running a for loop over the variable 'text' which represents the split of user input.\n",
    "### While running the for loop we are storing the index value of str[0] of every word after a split and turning it into an uppercase format using upper() function."
   ]
  },
  {
   "cell_type": "code",
   "execution_count": null,
   "id": "203d9eea",
   "metadata": {},
   "outputs": [],
   "source": []
  }
 ],
 "metadata": {
  "kernelspec": {
   "display_name": "Python 3",
   "language": "python",
   "name": "python3"
  },
  "language_info": {
   "codemirror_mode": {
    "name": "ipython",
    "version": 3
   },
   "file_extension": ".py",
   "mimetype": "text/x-python",
   "name": "python",
   "nbconvert_exporter": "python",
   "pygments_lexer": "ipython3",
   "version": "3.8.8"
  }
 },
 "nbformat": 4,
 "nbformat_minor": 5
}
