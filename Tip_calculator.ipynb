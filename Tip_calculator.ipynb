{
 "cells": [
  {
   "cell_type": "markdown",
   "id": "0fe4cd49",
   "metadata": {},
   "source": [
    "### We calculate the total tip amount that needs to be added to the bill , which is being divided by several people. The final output has to be displayed with 2 decimal values"
   ]
  },
  {
   "cell_type": "code",
   "execution_count": 1,
   "id": "8f0a39f1",
   "metadata": {},
   "outputs": [
    {
     "name": "stdout",
     "output_type": "stream",
     "text": [
      "Welcome to the tip calculator\n",
      "what was the total bill? 124.52\n",
      "what percentage of tip would you like to give? 10, 12 or 15? 12\n",
      "How many people to split the bill? 5\n",
      "Each person should pay : $27.89\n"
     ]
    }
   ],
   "source": [
    "#If the bill was $150.00, split between 5 people, with 12% tip. \n",
    "#Each person should pay (150.00 / 5) * 1.12 = 33.6\n",
    "\n",
    "\n",
    "print(\"Welcome to the tip calculator\")\n",
    "\n",
    "bill = float(input((\"what was the total bill? \")))\n",
    "\n",
    "tip = int(input(\"what percentage of tip would you like to give? 10, 12 or 15? \"))\n",
    "\n",
    "total_people = int(input(\"How many people to split the bill? \"))\n",
    "\n",
    "\n",
    "\n",
    "#calculating total tip\n",
    "\n",
    "tip_percent = tip / 100\n",
    "\n",
    "total_tip_amount = bill * tip_percent\n",
    "\n",
    "total_bill = bill + total_tip_amount\n",
    "\n",
    "\n",
    "#rounding-up to 2 decimal values\n",
    "\n",
    "bill_per_person = total_bill / total_people\n",
    "\n",
    "final_amount = round(bill_per_person, 2)\n",
    "\n",
    "final_amount = \"{:.2f}\".format(bill_per_person) \n",
    "#incase the o/p conatins just 1 decimal value and we want to display 2 decimal values\n",
    "\n",
    "print(f\"Each person should pay : ${final_amount}\")\n"
   ]
  }
 ],
 "metadata": {
  "kernelspec": {
   "display_name": "Python 3",
   "language": "python",
   "name": "python3"
  },
  "language_info": {
   "codemirror_mode": {
    "name": "ipython",
    "version": 3
   },
   "file_extension": ".py",
   "mimetype": "text/x-python",
   "name": "python",
   "nbconvert_exporter": "python",
   "pygments_lexer": "ipython3",
   "version": "3.8.8"
  }
 },
 "nbformat": 4,
 "nbformat_minor": 5
}
