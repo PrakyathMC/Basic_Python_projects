{
 "cells": [
  {
   "cell_type": "markdown",
   "id": "f511b600",
   "metadata": {},
   "source": [
    "### If an year is divided by 4 and gives 0 as remainder is a leap year\n",
    "### Except if the same year gives the remainder as 0 while divided by 100\n",
    "### Unless the year is divided by 400 and gives the remainder as 0.\n",
    "#### We can use this logic to find out if an year is leap or not."
   ]
  },
  {
   "cell_type": "code",
   "execution_count": 6,
   "id": "57d3b06d",
   "metadata": {},
   "outputs": [
    {
     "name": "stdout",
     "output_type": "stream",
     "text": [
      "Which year do you want to check? 2020\n",
      "Leap year.\n"
     ]
    }
   ],
   "source": [
    "# This is how you work out whether if a particular year is a leap year.\n",
    "\n",
    "# on every year that is evenly divisible by 4 \n",
    "\n",
    "# **except** every year that is evenly divisible by 100 \n",
    "\n",
    "# **unless** the year is also evenly divisible by 400\n",
    "\n",
    "# e.g. The year 2000:\n",
    "\n",
    "# 2000 ÷ 4 = 500 (Leap)\n",
    "\n",
    "# 2000 ÷ 100 = 20 (Not Leap)\n",
    "\n",
    "# 2000 ÷ 400 = 5 (Leap!)\n",
    "\n",
    "# So the year 2000 is a leap year.\n",
    "\n",
    "year = int(input(\"Which year do you want to check? \"))\n",
    "\n",
    "if year % 4 == 0:\n",
    "    print(\"Leap year.\")\n",
    "    \n",
    "elif year % 100 == 0:\n",
    "    print(\"Not leap year.\")\n",
    "    \n",
    "    if year % 400 == 0:\n",
    "        print(\"Leap year.\")\n",
    "else:\n",
    "    print(\"Not leap year.\")"
   ]
  }
 ],
 "metadata": {
  "kernelspec": {
   "display_name": "Python 3",
   "language": "python",
   "name": "python3"
  },
  "language_info": {
   "codemirror_mode": {
    "name": "ipython",
    "version": 3
   },
   "file_extension": ".py",
   "mimetype": "text/x-python",
   "name": "python",
   "nbconvert_exporter": "python",
   "pygments_lexer": "ipython3",
   "version": "3.8.8"
  }
 },
 "nbformat": 4,
 "nbformat_minor": 5
}
