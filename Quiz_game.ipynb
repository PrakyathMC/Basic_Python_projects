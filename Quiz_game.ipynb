{
 "cells": [
  {
   "cell_type": "markdown",
   "id": "15c5a20b",
   "metadata": {},
   "source": [
    "### We can create a simple quiz game using Python. In the below game the questions are about animals, the same can be easily changed to cover any other topic. \n",
    "\n",
    "### The Quiz game asks the player questions about animals. They have three chances to answer each question, at the end the program will reveal the total score of the player"
   ]
  },
  {
   "cell_type": "markdown",
   "id": "2ea90daa",
   "metadata": {},
   "source": [
    "### We use a function : a block of code that performs a specific task several times using the same code"
   ]
  },
  {
   "cell_type": "code",
   "execution_count": 1,
   "id": "88f92a68",
   "metadata": {},
   "outputs": [
    {
     "name": "stdout",
     "output_type": "stream",
     "text": [
      "Guess the Animal\n",
      "Which bear lives at the North Pole?polar bear\n",
      "Correct Answer!\n",
      "Which is the fastest land animal?cheetah\n",
      "Correct Answer!\n",
      "Which is the largest animal?blue whale\n",
      "Correct Answer!\n",
      "Your score is 3\n"
     ]
    }
   ],
   "source": [
    "def check_guess(guess, answer):\n",
    "    global score\n",
    "    still_guessing = True\n",
    "    attempt = 0\n",
    "    \n",
    "    while still_guessing and attempt < 3:\n",
    "        if guess.lower() == answer.lower():\n",
    "            print(\"Correct Answer!\")\n",
    "            score += 1\n",
    "            still_guessing = False\n",
    "        \n",
    "        else:\n",
    "            if attempt < 2:\n",
    "                guess = input(\"Sorry Wrong Answer, try again\")\n",
    "            attempt += 1\n",
    "            \n",
    "    if attempt == 3:\n",
    "        print(\"The correct answer is\", answer)\n",
    "        \n",
    "    \n",
    "score = 0\n",
    "print(\"Guess the Animal\")\n",
    "\n",
    "guess1 = input(\"Which bear lives at the North Pole?\")\n",
    "check_guess(guess1, \"Polar bear\")\n",
    "\n",
    "guess2 = input(\"Which is the fastest land animal?\")\n",
    "check_guess(guess2, \"Cheetah\")\n",
    "\n",
    "guess3 = input(\"Which is the largest animal?\")\n",
    "check_guess(guess3, \"Blue Whale\")\n",
    "\n",
    "print(\"Your score is \"+ str(score))"
   ]
  }
 ],
 "metadata": {
  "kernelspec": {
   "display_name": "Python 3",
   "language": "python",
   "name": "python3"
  },
  "language_info": {
   "codemirror_mode": {
    "name": "ipython",
    "version": 3
   },
   "file_extension": ".py",
   "mimetype": "text/x-python",
   "name": "python",
   "nbconvert_exporter": "python",
   "pygments_lexer": "ipython3",
   "version": "3.8.8"
  }
 },
 "nbformat": 4,
 "nbformat_minor": 5
}
