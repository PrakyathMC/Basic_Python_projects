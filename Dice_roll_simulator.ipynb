{
 "cells": [
  {
   "cell_type": "markdown",
   "id": "629e4024",
   "metadata": {},
   "source": [
    "### The Dice Roll Simulation can be done by choosing a random integer between 1 and 6 for which we can use the random module in the Python programming language"
   ]
  },
  {
   "cell_type": "code",
   "execution_count": 1,
   "id": "93da6c24",
   "metadata": {},
   "outputs": [],
   "source": [
    "#importing random module for random number generation"
   ]
  },
  {
   "cell_type": "code",
   "execution_count": 2,
   "id": "844f5ef2",
   "metadata": {},
   "outputs": [],
   "source": [
    "import random"
   ]
  },
  {
   "cell_type": "code",
   "execution_count": 3,
   "id": "f553dacb",
   "metadata": {},
   "outputs": [],
   "source": [
    "#defining the range of the values of a dice"
   ]
  },
  {
   "cell_type": "code",
   "execution_count": 4,
   "id": "b93d437b",
   "metadata": {},
   "outputs": [],
   "source": [
    "min_val = 1\n",
    "max_val = 6"
   ]
  },
  {
   "cell_type": "code",
   "execution_count": 5,
   "id": "9b85b9e4",
   "metadata": {},
   "outputs": [],
   "source": [
    "#to loop the rolling through user input"
   ]
  },
  {
   "cell_type": "code",
   "execution_count": 6,
   "id": "3ff0715f",
   "metadata": {},
   "outputs": [],
   "source": [
    "roll_again = \"yes\""
   ]
  },
  {
   "cell_type": "code",
   "execution_count": 7,
   "id": "8154c3a9",
   "metadata": {},
   "outputs": [
    {
     "name": "stdout",
     "output_type": "stream",
     "text": [
      "Rolling the Dices....\n",
      "The values are :\n",
      "5\n",
      "6\n",
      "Roll the Dices again?yes\n",
      "Rolling the Dices....\n",
      "The values are :\n",
      "1\n",
      "6\n",
      "Roll the Dices again?y\n",
      "Rolling the Dices....\n",
      "The values are :\n",
      "2\n",
      "3\n",
      "Roll the Dices again?no\n"
     ]
    }
   ],
   "source": [
    "while roll_again == \"yes\" or roll_again == \"y\":\n",
    "    print(\"Rolling the Dices....\")\n",
    "    print(\"The values are :\")\n",
    "    \n",
    "    #generating and printing the 1st random integer from 1 to 6\n",
    "    print(random.randint(min_val, max_val))\n",
    "    \n",
    "    #generating and printing the 2nd random integer from 1 to 6\n",
    "    print(random.randint(min_val, max_val))\n",
    "    \n",
    "    #asking the user to roll the dice again. Any input other than yes or y will terminate the loop\n",
    "    roll_again = input(\"Roll the Dices again?\")"
   ]
  },
  {
   "cell_type": "markdown",
   "id": "dc45e215",
   "metadata": {},
   "source": [
    "### The random module can be easily imported into the code as it is preinstalled in Python programming language.\n"
   ]
  },
  {
   "cell_type": "markdown",
   "id": "421c5b84",
   "metadata": {},
   "source": [
    "### After importing the random module, we will use the random.randint() function, which will specify a random integer based on the start and end values we specify. The smallest value of a dice roll is 1 and the biggest roll is 6, this logic can be used to simulate a dice roll."
   ]
  }
 ],
 "metadata": {
  "kernelspec": {
   "display_name": "Python 3",
   "language": "python",
   "name": "python3"
  },
  "language_info": {
   "codemirror_mode": {
    "name": "ipython",
    "version": 3
   },
   "file_extension": ".py",
   "mimetype": "text/x-python",
   "name": "python",
   "nbconvert_exporter": "python",
   "pygments_lexer": "ipython3",
   "version": "3.8.8"
  }
 },
 "nbformat": 4,
 "nbformat_minor": 5
}
