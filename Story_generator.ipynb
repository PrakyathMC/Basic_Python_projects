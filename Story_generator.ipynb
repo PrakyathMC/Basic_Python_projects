{
 "cells": [
  {
   "cell_type": "markdown",
   "id": "03f6f319",
   "metadata": {},
   "source": [
    "### Using the random module, we will generate a new story everytime we run the program"
   ]
  },
  {
   "cell_type": "code",
   "execution_count": 4,
   "id": "36cef601",
   "metadata": {},
   "outputs": [
    {
     "name": "stdout",
     "output_type": "stream",
     "text": [
      "A long time ago, a turtle that lived in Madrid, went to the laundry, and solved a mystery\n"
     ]
    }
   ],
   "source": [
    "import random\n",
    "\n",
    "when = ['A few years ago', 'Yesterday', 'Last night', 'A long time ago', 'On 20th Jan']\n",
    "\n",
    "who = ['a rabbit', 'an elephant', 'a mouse', 'a turtle', 'a cat']\n",
    "\n",
    "name = ['Ali', 'Mike', 'Dani', 'Heather', 'Starlord']\n",
    "\n",
    "residence = ['Madrid', 'India', 'England', 'Germany', 'California']\n",
    "\n",
    "went = ['cinema', 'university', 'seminar', 'school', 'laundry']\n",
    "\n",
    "happened = ['made a lot of friends', 'Eats a burger', 'found a sceret key', 'solved a mystery', 'wrote a book']\n",
    "\n",
    "print(random.choice(when) + ', ' + random.choice(who) + ' that lived in ' + random.choice(residence) + ', went to the ' + random.choice(went) + ', and ' + random.choice(happened))"
   ]
  },
  {
   "cell_type": "markdown",
   "id": "1589dc1e",
   "metadata": {},
   "source": [
    "### First we store different parts of the stories in different lists, then the random module can be used to select the random parts of the story stored in different lists"
   ]
  }
 ],
 "metadata": {
  "kernelspec": {
   "display_name": "Python 3",
   "language": "python",
   "name": "python3"
  },
  "language_info": {
   "codemirror_mode": {
    "name": "ipython",
    "version": 3
   },
   "file_extension": ".py",
   "mimetype": "text/x-python",
   "name": "python",
   "nbconvert_exporter": "python",
   "pygments_lexer": "ipython3",
   "version": "3.8.8"
  }
 },
 "nbformat": 4,
 "nbformat_minor": 5
}
