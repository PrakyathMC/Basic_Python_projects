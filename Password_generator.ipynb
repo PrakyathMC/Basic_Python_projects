{
 "cells": [
  {
   "cell_type": "markdown",
   "id": "169884ff",
   "metadata": {},
   "source": [
    "### I will create a program that takes the length of the password and generates a random password of the same length"
   ]
  },
  {
   "cell_type": "code",
   "execution_count": 6,
   "id": "2989a32f",
   "metadata": {},
   "outputs": [
    {
     "name": "stdout",
     "output_type": "stream",
     "text": [
      "enter the length of the password7\n",
      "SC9cmWj\n"
     ]
    }
   ],
   "source": [
    "import random\n",
    "\n",
    "passlen = int(input(\"enter the length of the password\"))\n",
    "\n",
    "s = \"abcdefghijklmnopqrstuvwxyz0123456789ABCDEFGHIJKLMNOPQRSTUVWXYZ!@#$%^&*()?\"\n",
    "\n",
    "p = \"\".join(random.sample(s,passlen))\n",
    "\n",
    "print(p)"
   ]
  },
  {
   "cell_type": "markdown",
   "id": "31e71666",
   "metadata": {},
   "source": [
    "### Firstly, i imported the random module in Python, then i asked for user input of the length of the password. Then i stored the letters, numbers and special characters that i want to be included while generating a password"
   ]
  },
  {
   "cell_type": "markdown",
   "id": "c14edead",
   "metadata": {},
   "source": [
    "### Then I do a random sampling by joining the length of the password and the variable s, which will generate random password"
   ]
  }
 ],
 "metadata": {
  "kernelspec": {
   "display_name": "Python 3",
   "language": "python",
   "name": "python3"
  },
  "language_info": {
   "codemirror_mode": {
    "name": "ipython",
    "version": 3
   },
   "file_extension": ".py",
   "mimetype": "text/x-python",
   "name": "python",
   "nbconvert_exporter": "python",
   "pygments_lexer": "ipython3",
   "version": "3.8.8"
  }
 },
 "nbformat": 4,
 "nbformat_minor": 5
}
