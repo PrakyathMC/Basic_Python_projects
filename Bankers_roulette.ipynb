{
 "cells": [
  {
   "cell_type": "markdown",
   "id": "5b478eb2",
   "metadata": {},
   "source": [
    "### We play a game of Banker Roulette and decide who pays everyone's bill."
   ]
  },
  {
   "cell_type": "markdown",
   "id": "5018c6ca",
   "metadata": {},
   "source": [
    "### For this we use the random module which will generate a pseudo-random output, the split() function will split the inputs at ', ' and put it in a list. "
   ]
  },
  {
   "cell_type": "code",
   "execution_count": 34,
   "id": "dbda3fde",
   "metadata": {},
   "outputs": [
    {
     "name": "stdout",
     "output_type": "stream",
     "text": [
      "Give me everybody's names, separated by a comma. Rachel, Ross, Monica, Chandler, Pheobe, Joey\n",
      "Joey is going to buy the meal today!\n"
     ]
    }
   ],
   "source": [
    "import random\n",
    "\n",
    "names_string = input(\"Give me everybody's names, separated by a comma. \")\n",
    "names = names_string.split(\", \")\n",
    "\n",
    "num_items = len(names)\n",
    "\n",
    "random_choice = random.randint(0, num_items-1)\n",
    "person_who_will_pay = names[random_choice]\n",
    "print(person_who_will_pay + \" is going to buy the meal today!\")"
   ]
  }
 ],
 "metadata": {
  "kernelspec": {
   "display_name": "Python 3",
   "language": "python",
   "name": "python3"
  },
  "language_info": {
   "codemirror_mode": {
    "name": "ipython",
    "version": 3
   },
   "file_extension": ".py",
   "mimetype": "text/x-python",
   "name": "python",
   "nbconvert_exporter": "python",
   "pygments_lexer": "ipython3",
   "version": "3.8.8"
  }
 },
 "nbformat": 4,
 "nbformat_minor": 5
}
