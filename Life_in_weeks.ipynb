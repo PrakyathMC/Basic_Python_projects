{
 "cells": [
  {
   "cell_type": "markdown",
   "id": "81ff2333",
   "metadata": {},
   "source": [
    "### We determine the number of DAYS, WEEKS & MONTHS a person has left to live, assuming that the person dies at the age of 90."
   ]
  },
  {
   "cell_type": "code",
   "execution_count": 4,
   "id": "f55a5d8e",
   "metadata": {},
   "outputs": [
    {
     "name": "stdout",
     "output_type": "stream",
     "text": [
      "What is your current age?22\n",
      "You have 24820 days, 3536 weeks, and 816 months\n"
     ]
    }
   ],
   "source": [
    "age = input(\"What is your current age?\")\n",
    "\n",
    "age_as_int = int(age)\n",
    "\n",
    "years_remaining = 90 - age_as_int\n",
    "\n",
    "days_remaining = years_remaining * 365\n",
    "\n",
    "weeks_remaining = years_remaining * 52\n",
    "\n",
    "months_remaining = years_remaining * 12\n",
    "\n",
    "message = f\"You have {days_remaining} days, {weeks_remaining} weeks, and {months_remaining} months\"\n",
    "print(message)\n"
   ]
  }
 ],
 "metadata": {
  "kernelspec": {
   "display_name": "Python 3",
   "language": "python",
   "name": "python3"
  },
  "language_info": {
   "codemirror_mode": {
    "name": "ipython",
    "version": 3
   },
   "file_extension": ".py",
   "mimetype": "text/x-python",
   "name": "python",
   "nbconvert_exporter": "python",
   "pygments_lexer": "ipython3",
   "version": "3.8.8"
  }
 },
 "nbformat": 4,
 "nbformat_minor": 5
}
