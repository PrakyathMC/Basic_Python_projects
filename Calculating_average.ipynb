{
 "cells": [
  {
   "cell_type": "markdown",
   "id": "a3eb8d3a",
   "metadata": {},
   "source": [
    "### Calculating the average student height using loops."
   ]
  },
  {
   "cell_type": "code",
   "execution_count": 50,
   "id": "7cd52f05",
   "metadata": {},
   "outputs": [
    {
     "name": "stdout",
     "output_type": "stream",
     "text": [
      "Input a list of student heights171 145 189 176 125\n",
      "[171, 145, 189, 176, 125]\n",
      "\n",
      "final sum is: 806\n",
      "\n",
      "number of stuents are: 5\n",
      "\n",
      "the average height is: 161\n",
      "\n"
     ]
    }
   ],
   "source": [
    "student_heights = input(\"Input a list of student heights\").split()\n",
    "for n in range(0, len(student_heights)):\n",
    "    student_heights[n] = int(student_heights[n])\n",
    "print(f\"{student_heights}\\n\")\n",
    "\n",
    "\n",
    "total_height = 0\n",
    "for height in (student_heights):\n",
    "    total_height += height \n",
    "print(f\"final sum is: {total_height}\\n\")\n",
    "\n",
    "\n",
    "num_students = 0\n",
    "for students in student_heights:\n",
    "    num_students += 1\n",
    "print(f\"number of stuents are: {num_students}\\n\")\n",
    "    \n",
    "\n",
    "average_height = round(total_height / num_students)\n",
    "print(f\"the average height is: {average_height}\\n\")\n"
   ]
  }
 ],
 "metadata": {
  "kernelspec": {
   "display_name": "Python 3",
   "language": "python",
   "name": "python3"
  },
  "language_info": {
   "codemirror_mode": {
    "name": "ipython",
    "version": 3
   },
   "file_extension": ".py",
   "mimetype": "text/x-python",
   "name": "python",
   "nbconvert_exporter": "python",
   "pygments_lexer": "ipython3",
   "version": "3.8.8"
  }
 },
 "nbformat": 4,
 "nbformat_minor": 5
}
