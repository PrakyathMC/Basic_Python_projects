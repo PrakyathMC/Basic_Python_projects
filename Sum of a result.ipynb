{
 "cells": [
  {
   "cell_type": "markdown",
   "id": "e0dda4ab",
   "metadata": {},
   "source": [
    "### We write basic codes to find the sum of a result"
   ]
  },
  {
   "cell_type": "code",
   "execution_count": 2,
   "id": "95454ea9",
   "metadata": {},
   "outputs": [
    {
     "name": "stdout",
     "output_type": "stream",
     "text": [
      "Type a two digit number: 52\n",
      "<class 'str'>\n",
      "7\n"
     ]
    }
   ],
   "source": [
    "two_digit_number = input(\"Type a two digit number: \")\n",
    "\n",
    "print(type(two_digit_number))\n",
    "first_num = (two_digit_number[0])\n",
    "second_num = (two_digit_number[1])\n",
    "\n",
    "result = int(first_num) + int(second_num)\n",
    "print(result)"
   ]
  }
 ],
 "metadata": {
  "kernelspec": {
   "display_name": "Python 3",
   "language": "python",
   "name": "python3"
  },
  "language_info": {
   "codemirror_mode": {
    "name": "ipython",
    "version": 3
   },
   "file_extension": ".py",
   "mimetype": "text/x-python",
   "name": "python",
   "nbconvert_exporter": "python",
   "pygments_lexer": "ipython3",
   "version": "3.8.8"
  }
 },
 "nbformat": 4,
 "nbformat_minor": 5
}
