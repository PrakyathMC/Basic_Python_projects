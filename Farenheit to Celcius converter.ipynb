{
 "cells": [
  {
   "cell_type": "markdown",
   "id": "cf5b3700",
   "metadata": {},
   "source": [
    "### We have to convert the temperature because Celsius and Fahrenheit have different starting points; 0 degrees Celsius is 32 degrees Fahrenheit. So to convert Fahrenheit to degrees Celsius, we just need to subtract 32 from the temperature Fahrenheit."
   ]
  },
  {
   "cell_type": "markdown",
   "id": "ad7ab197",
   "metadata": {},
   "source": [
    "### Sometimes the size of the units is also different. Celsius divides the temperature range between the freezing and boiling points of water is 100 degrees, while Fahrenheit divides this range into 180 degrees, so I will also multiply the value by 5/9 to convert 180 degrees into 100.\n"
   ]
  },
  {
   "cell_type": "code",
   "execution_count": 2,
   "id": "5476c365",
   "metadata": {},
   "outputs": [
    {
     "name": "stdout",
     "output_type": "stream",
     "text": [
      "25.0\n"
     ]
    }
   ],
   "source": [
    "def convert(s):\n",
    "    \n",
    "    f = float(s)\n",
    "    c = (f - 32) * 5/9\n",
    "    \n",
    "    return c\n",
    "\n",
    "print(convert(77))"
   ]
  }
 ],
 "metadata": {
  "kernelspec": {
   "display_name": "Python 3",
   "language": "python",
   "name": "python3"
  },
  "language_info": {
   "codemirror_mode": {
    "name": "ipython",
    "version": 3
   },
   "file_extension": ".py",
   "mimetype": "text/x-python",
   "name": "python",
   "nbconvert_exporter": "python",
   "pygments_lexer": "ipython3",
   "version": "3.8.8"
  }
 },
 "nbformat": 4,
 "nbformat_minor": 5
}
