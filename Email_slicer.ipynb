{
 "cells": [
  {
   "cell_type": "markdown",
   "id": "4f98142b",
   "metadata": {},
   "source": [
    "### An Email slicer program is useful for seperating the Username and Domain name from the email address"
   ]
  },
  {
   "cell_type": "code",
   "execution_count": 3,
   "id": "63897415",
   "metadata": {},
   "outputs": [
    {
     "name": "stdout",
     "output_type": "stream",
     "text": [
      "Enter Your Email: python@gmail.com\n",
      "Your Username is 'python' and your Domain name is 'gmail.com'\n"
     ]
    }
   ],
   "source": [
    "email = input(\"Enter Your Email: \").strip()\n",
    "\n",
    "username = email[:email.index(\"@\")]\n",
    "\n",
    "domain_name = email[email.index(\"@\")+1:]\n",
    "\n",
    "format_ = (f\"Your Username is '{username}' and your Domain name is '{domain_name}'\")\n",
    "\n",
    "print(format_)"
   ]
  },
  {
   "cell_type": "markdown",
   "id": "ae77674d",
   "metadata": {},
   "source": [
    "### First we take the Email address as input while using the strip() built-in function at the same time to remove any white space if any"
   ]
  },
  {
   "cell_type": "markdown",
   "id": "e1236c62",
   "metadata": {},
   "source": [
    "### Then we find the index of \"@\" in our Email address and store it to the variable domain_name, hence splitting our user input into 2 parts; username and domain"
   ]
  },
  {
   "cell_type": "markdown",
   "id": "099451a1",
   "metadata": {},
   "source": [
    "### Finally we are formatting to print the output. (the code can be further modified depending upon our needs)"
   ]
  },
  {
   "cell_type": "code",
   "execution_count": null,
   "id": "47dafa04",
   "metadata": {},
   "outputs": [],
   "source": []
  }
 ],
 "metadata": {
  "kernelspec": {
   "display_name": "Python 3",
   "language": "python",
   "name": "python3"
  },
  "language_info": {
   "codemirror_mode": {
    "name": "ipython",
    "version": 3
   },
   "file_extension": ".py",
   "mimetype": "text/x-python",
   "name": "python",
   "nbconvert_exporter": "python",
   "pygments_lexer": "ipython3",
   "version": "3.8.8"
  }
 },
 "nbformat": 4,
 "nbformat_minor": 5
}
