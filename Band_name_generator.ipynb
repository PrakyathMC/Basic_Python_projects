{
 "cells": [
  {
   "cell_type": "markdown",
   "id": "41553ced",
   "metadata": {},
   "source": [
    "### We create a very basic program to generate a band name on the inputs we provide"
   ]
  },
  {
   "cell_type": "code",
   "execution_count": 1,
   "id": "80bf6bb3",
   "metadata": {},
   "outputs": [
    {
     "name": "stdout",
     "output_type": "stream",
     "text": [
      "Welcome to the band name generator!!\n",
      "Which city did you grow up in? \n",
      " Bristol\n",
      "What is the name of your pet? \n",
      " Tommy\n",
      "your band name could be Bristol Tommy\n"
     ]
    }
   ],
   "source": [
    "#1. Create a greeting for your program.\n",
    "print(\"Welcome to the band name generator!!\")\n",
    "\n",
    "#2. Ask the user for the city that they grew up in.\n",
    "city_name = input(\"Which city did you grow up in? \\n \")\n",
    "\n",
    "#3. Ask the user for the name of a pet.\n",
    "pet_name = input(\"What is the name of your pet? \\n \")\n",
    "\n",
    "#4. Combine the name of their city and pet and show them their band name.\n",
    "print(\"your band name could be\" + \" \" + city_name + \" \" + pet_name)\n"
   ]
  }
 ],
 "metadata": {
  "kernelspec": {
   "display_name": "Python 3",
   "language": "python",
   "name": "python3"
  },
  "language_info": {
   "codemirror_mode": {
    "name": "ipython",
    "version": 3
   },
   "file_extension": ".py",
   "mimetype": "text/x-python",
   "name": "python",
   "nbconvert_exporter": "python",
   "pygments_lexer": "ipython3",
   "version": "3.8.8"
  }
 },
 "nbformat": 4,
 "nbformat_minor": 5
}
