{
 "cells": [
  {
   "cell_type": "markdown",
   "id": "23df395e",
   "metadata": {},
   "source": [
    "### The body mass index is calculated by dividing an individual’s weight in kilograms by their height in meters, then dividing the answer again by their height\n"
   ]
  },
  {
   "cell_type": "code",
   "execution_count": 2,
   "id": "253b3f4c",
   "metadata": {},
   "outputs": [
    {
     "name": "stdout",
     "output_type": "stream",
     "text": [
      "Enter your height in centimeters: 171\n",
      "Enter your weight in Kg: 74\n",
      "Your Body Mass INdex is: 25.3069320474676\n",
      "You are severly overweight\n"
     ]
    }
   ],
   "source": [
    "Height = float(input(\"Enter your height in centimeters: \"))\n",
    "Weight = float(input(\"Enter your weight in Kg: \"))\n",
    "Height = Height/100\n",
    "BMI = Weight/(Height*Height)\n",
    "print(\"Your Body Mass INdex is:\", BMI)\n",
    "\n",
    "if(BMI>0):\n",
    "    if(BMI<16):\n",
    "        print(\"You are severly underweight\")\n",
    "    elif(BMI<=18.5):\n",
    "        print(\"You are underweight\")\n",
    "    elif(BMI<=25):\n",
    "        print(\"You are healthy\")\n",
    "    else:\n",
    "        print(\"You are severly overweight\")\n",
    "\n",
    "else:(\"Enter valid details\")"
   ]
  }
 ],
 "metadata": {
  "kernelspec": {
   "display_name": "Python 3",
   "language": "python",
   "name": "python3"
  },
  "language_info": {
   "codemirror_mode": {
    "name": "ipython",
    "version": 3
   },
   "file_extension": ".py",
   "mimetype": "text/x-python",
   "name": "python",
   "nbconvert_exporter": "python",
   "pygments_lexer": "ipython3",
   "version": "3.8.8"
  }
 },
 "nbformat": 4,
 "nbformat_minor": 5
}
