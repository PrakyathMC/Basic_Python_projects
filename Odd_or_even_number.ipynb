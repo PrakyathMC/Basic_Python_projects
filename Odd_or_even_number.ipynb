{
 "cells": [
  {
   "cell_type": "markdown",
   "id": "f5f1facd",
   "metadata": {},
   "source": [
    "### Any even number divided by 2 will always give the remainder as zero and odd number will produce a remainder."
   ]
  },
  {
   "cell_type": "code",
   "execution_count": 3,
   "id": "3693b363",
   "metadata": {},
   "outputs": [
    {
     "name": "stdout",
     "output_type": "stream",
     "text": [
      "Which number do you want to check? 75\n",
      "This is an odd number\n"
     ]
    }
   ],
   "source": [
    "number = int(input(\"Which number do you want to check? \"))\n",
    "\n",
    "if number % 2 == 0:\n",
    "    print(\"This is an even number\")\n",
    "else:\n",
    "    print(\"This is an odd number\")"
   ]
  }
 ],
 "metadata": {
  "kernelspec": {
   "display_name": "Python 3",
   "language": "python",
   "name": "python3"
  },
  "language_info": {
   "codemirror_mode": {
    "name": "ipython",
    "version": 3
   },
   "file_extension": ".py",
   "mimetype": "text/x-python",
   "name": "python",
   "nbconvert_exporter": "python",
   "pygments_lexer": "ipython3",
   "version": "3.8.8"
  }
 },
 "nbformat": 4,
 "nbformat_minor": 5
}
