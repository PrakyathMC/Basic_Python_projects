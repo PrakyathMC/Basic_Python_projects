{
 "cells": [
  {
   "cell_type": "markdown",
   "id": "0fa1816b",
   "metadata": {},
   "source": [
    "### Prime numbers are the numbers which are divisible by itself and 1."
   ]
  },
  {
   "cell_type": "code",
   "execution_count": 5,
   "id": "b6661233",
   "metadata": {},
   "outputs": [
    {
     "name": "stdout",
     "output_type": "stream",
     "text": [
      "Check this number: 5\n",
      "It's a prime number.\n"
     ]
    }
   ],
   "source": [
    "def prime_checker(number):\n",
    "    is_prime = True\n",
    "    for i in range(2, number):\n",
    "        if number % i == 0:\n",
    "            is_prime = False\n",
    "    if is_prime:\n",
    "        print(\"It's a prime number.\")\n",
    "    else:\n",
    "        print(\"It's not a prime number.\")\n",
    "\n",
    "\n",
    "\n",
    "n = int(input(\"Check this number: \"))\n",
    "prime_checker(number=n)\n"
   ]
  }
 ],
 "metadata": {
  "kernelspec": {
   "display_name": "Python 3",
   "language": "python",
   "name": "python3"
  },
  "language_info": {
   "codemirror_mode": {
    "name": "ipython",
    "version": 3
   },
   "file_extension": ".py",
   "mimetype": "text/x-python",
   "name": "python",
   "nbconvert_exporter": "python",
   "pygments_lexer": "ipython3",
   "version": "3.8.8"
  }
 },
 "nbformat": 4,
 "nbformat_minor": 5
}
